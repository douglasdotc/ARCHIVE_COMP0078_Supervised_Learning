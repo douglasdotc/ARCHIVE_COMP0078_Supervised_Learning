{
 "cells": [
  {
   "cell_type": "code",
   "execution_count": 1,
   "metadata": {
    "colab": {
     "base_uri": "https://localhost:8080/"
    },
    "executionInfo": {
     "elapsed": 788,
     "status": "ok",
     "timestamp": 1609448723333,
     "user": {
      "displayName": "Douglas Chiang",
      "photoUrl": "https://lh3.googleusercontent.com/a-/AOh14GjRfrNX2CaGt22kA81Qe5IcqhgjAFJAgL6a5a00=s64",
      "userId": "09168195025572616010"
     },
     "user_tz": -480
    },
    "id": "R79h7EY_5hmy",
    "outputId": "52e2c016-1392-4a39-a903-71f236f57f6b"
   },
   "outputs": [
    {
     "name": "stdout",
     "output_type": "stream",
     "text": [
      "/content/drive/MyDrive/Colab Notebooks/COMP0078/CW2/Q1\n"
     ]
    }
   ],
   "source": [
    "# =================================\n",
    "# COMP0078 Coursework 2 Q1.5 RE1.1\n",
    "# Douglas Chiang\n",
    "# 15055142\n",
    "# =================================\n",
    "cd /content/drive/MyDrive/Colab Notebooks/COMP0078/CW2/Q1"
   ]
  },
  {
   "cell_type": "code",
   "execution_count": 2,
   "metadata": {
    "colab": {
     "base_uri": "https://localhost:8080/"
    },
    "executionInfo": {
     "elapsed": 1451,
     "status": "ok",
     "timestamp": 1609448724011,
     "user": {
      "displayName": "Douglas Chiang",
      "photoUrl": "https://lh3.googleusercontent.com/a-/AOh14GjRfrNX2CaGt22kA81Qe5IcqhgjAFJAgL6a5a00=s64",
      "userId": "09168195025572616010"
     },
     "user_tz": -480
    },
    "id": "gnlWHe8g6YRw",
    "outputId": "c70fffe0-a836-407d-b3d0-f976239793bb"
   },
   "outputs": [
    {
     "name": "stdout",
     "output_type": "stream",
     "text": [
      " Assignment_2_Question_1a_v3.ipynb     dtrain123.dat     zipcombo.dat\n",
      " Assignment_2_Question_1bcd_v1.ipynb   \u001b[0m\u001b[01;34mPlots\u001b[0m/\n",
      " dtest123.dat                         'Q1 Trial.ipynb'\n"
     ]
    }
   ],
   "source": [
    "ls"
   ]
  },
  {
   "cell_type": "markdown",
   "metadata": {
    "id": "phkWnql866Y-"
   },
   "source": [
    "Libraries:"
   ]
  },
  {
   "cell_type": "code",
   "execution_count": 3,
   "metadata": {
    "executionInfo": {
     "elapsed": 1445,
     "status": "ok",
     "timestamp": 1609448724012,
     "user": {
      "displayName": "Douglas Chiang",
      "photoUrl": "https://lh3.googleusercontent.com/a-/AOh14GjRfrNX2CaGt22kA81Qe5IcqhgjAFJAgL6a5a00=s64",
      "userId": "09168195025572616010"
     },
     "user_tz": -480
    },
    "id": "F5kQEIMR60he"
   },
   "outputs": [],
   "source": [
    "import time\n",
    "import pandas            as pd\n",
    "import numpy             as np\n",
    "import matplotlib.pyplot as plt"
   ]
  },
  {
   "cell_type": "markdown",
   "metadata": {
    "id": "NFPlb9_L7WKs"
   },
   "source": [
    "Functions for data"
   ]
  },
  {
   "cell_type": "code",
   "execution_count": 4,
   "metadata": {
    "executionInfo": {
     "elapsed": 1439,
     "status": "ok",
     "timestamp": 1609448724013,
     "user": {
      "displayName": "Douglas Chiang",
      "photoUrl": "https://lh3.googleusercontent.com/a-/AOh14GjRfrNX2CaGt22kA81Qe5IcqhgjAFJAgL6a5a00=s64",
      "userId": "09168195025572616010"
     },
     "user_tz": -480
    },
    "id": "eHdSPKbh6_hm"
   },
   "outputs": [],
   "source": [
    "def load_dat(fname, Full_Data = False):\n",
    "    dat = pd.read_csv(fname, sep='\\s+', header=None).to_numpy()\n",
    "    if Full_Data == False:\n",
    "        y = dat[:, 0].astype(np.int) - 1  # we are zero-based indexing\n",
    "    else:\n",
    "        y = dat[:, 0].astype(np.int)\n",
    "    \n",
    "    X = dat[:, 1:].astype(np.float64)\n",
    "    return X, y\n",
    "\n",
    "def Plot_Accuracy_SV(Ker_para, run, n_epochs, Train_accuracy_All, Test_accuracy_All):\n",
    "    fig1, ax1 = plt.subplots()\n",
    "\n",
    "    ax1.plot(range(1, n_epochs), Train_accuracy_All, color='red', label='Training accuracy')\n",
    "    ax1.plot(range(1, n_epochs), Test_accuracy_All, color='blue', label='Testing accuracy')\n",
    "\n",
    "    plt.xlabel('Epoch(s)')\n",
    "    leg = ax1.legend(bbox_to_anchor=(1.5, 1.02), loc='upper right', frameon=False)\n",
    "    plt.savefig(f\"/content/drive/MyDrive/Colab Notebooks/COMP0078/CW2/Q1/Plots/Q1a/d_{Ker_para}_run_{run}_Accuracy_SV.png\")"
   ]
  },
  {
   "cell_type": "markdown",
   "metadata": {
    "id": "dOsTfFD57dng"
   },
   "source": [
    "Kernel Calculation"
   ]
  },
  {
   "cell_type": "code",
   "execution_count": 5,
   "metadata": {
    "executionInfo": {
     "elapsed": 1433,
     "status": "ok",
     "timestamp": 1609448724014,
     "user": {
      "displayName": "Douglas Chiang",
      "photoUrl": "https://lh3.googleusercontent.com/a-/AOh14GjRfrNX2CaGt22kA81Qe5IcqhgjAFJAgL6a5a00=s64",
      "userId": "09168195025572616010"
     },
     "user_tz": -480
    },
    "id": "B-ixGa007eD1"
   },
   "outputs": [],
   "source": [
    "class KernelFunctor:\n",
    "    \"\"\"\n",
    "    Calculate the Kernel values and put them in a matrix\n",
    "    \"\"\"\n",
    "    def __init__(self, Ker_Meth=\"Poly\", Ker_para=2):\n",
    "        self.Ker_Meth = Ker_Meth\n",
    "        self.Ker_para = Ker_para\n",
    "        #self.X_idx = \n",
    "    \n",
    "    def kernel_fn(self, X):\n",
    "        if self.Ker_Meth == \"Poly\":\n",
    "            return (X.dot(X.T))**self.Ker_para\n",
    "        elif self.Ker_Meth == \"Gau\":\n",
    "            mi = X.shape[0]\n",
    "            mj = X.shape[0]\n",
    "            \n",
    "            xi2 = np.sum(X ** 2, axis=1)\n",
    "            xj2 = np.sum(X ** 2, axis=1)\n",
    "            \n",
    "            xi2 = xi2.reshape((mi, 1))\n",
    "            xj2 = xj2.reshape((1, mj))\n",
    "            \n",
    "            K = xi2 + xj2 - 2 * X.dot(X.T)\n",
    "            K = np.exp(-self.Ker_para*K)\n",
    "\n",
    "            return K\n",
    "        else:\n",
    "            assert False, \"Kernel Method Undefined\""
   ]
  },
  {
   "cell_type": "markdown",
   "metadata": {
    "id": "8yfy_GXj7oq1"
   },
   "source": [
    "K - Class Classifier: One vs Rest Online Perceptron"
   ]
  },
  {
   "cell_type": "code",
   "execution_count": 6,
   "metadata": {
    "executionInfo": {
     "elapsed": 1429,
     "status": "ok",
     "timestamp": 1609448724016,
     "user": {
      "displayName": "Douglas Chiang",
      "photoUrl": "https://lh3.googleusercontent.com/a-/AOh14GjRfrNX2CaGt22kA81Qe5IcqhgjAFJAgL6a5a00=s64",
      "userId": "09168195025572616010"
     },
     "user_tz": -480
    },
    "id": "Gl914-097iyy"
   },
   "outputs": [],
   "source": [
    "class OvR_OnlinePerceptron:\n",
    "    \"\"\"\n",
    "    One-vs-Rest\n",
    "    \"\"\"\n",
    "    def __init__(self, alphas, kernel_matrix, n_classes=3):\n",
    "        self.alphas              = alphas\n",
    "        self.kernel_matrix       = kernel_matrix\n",
    "        self.alphas              = alphas\n",
    "        self.n_classes           = n_classes\n",
    "\n",
    "    def fit(self, ran_train_sample_idx, X, y):\n",
    "        n_samples, n_dim = X.shape\n",
    "\n",
    "        # record down data\n",
    "        self.n_dim                = n_dim\n",
    "        self.n_samples            = range(n_samples)\n",
    "        self.ran_train_sample_idx = ran_train_sample_idx\n",
    "        # ------------------------------------------------------\n",
    "        for i in self.n_samples:\n",
    "            cls_vals           = self._get_classifier_vals(self.ran_train_sample_idx[i])\n",
    "            preds              = self.sign(cls_vals)\n",
    "            truth              = self._label_to_custom_onehot(y[i])\n",
    "            self.alphas[:, i] -= np.where(np.multiply(cls_vals, truth) <= 0, preds, 0)\n",
    "\n",
    "        return self.alphas\n",
    "\n",
    "    def _get_classifier_vals(self, sample_idx):\n",
    "        \"\"\"\n",
    "        This is the classifier:\n",
    "        .. math::\n",
    "            w(x) = \\sum_i \\alpha_i K(x_i, x)\n",
    "        Args:\n",
    "            x (np.ndarray): the input feature you would like to classify\n",
    "        Return:\n",
    "            An array of size (n_classes,). Each value represents the inner product\n",
    "            sum between support vectors of a classifier and the incoming feature.\n",
    "        \"\"\"\n",
    "        ret           = np.zeros((self.n_classes,))\n",
    "        kernel_values = self.kernel_matrix[self.ran_train_sample_idx, sample_idx]\n",
    "        ret          += self.alphas.dot(kernel_values)\n",
    "        assert ret.shape == (self.n_classes,)\n",
    "        return ret\n",
    "\n",
    "    def predict(self, sample_idx):\n",
    "        cls_vals = self._get_classifier_vals(sample_idx)\n",
    "        return np.argmax(cls_vals)\n",
    "\n",
    "    @staticmethod\n",
    "    def sign(val):\n",
    "        ret = np.where(val <= 0.0, -1, 1)\n",
    "        return ret\n",
    "\n",
    "    def _label_to_custom_onehot(self, label: int):\n",
    "        \"\"\"\n",
    "        Similar to one-hot encoding, we mark the truth one as 1, otherwise -1\n",
    "        Example:\n",
    "        >>> svm = MulticlassSVM(n_classes=5)\n",
    "        >>> svm._label_to_custom_onehot(2)\n",
    "        [-1, -1, 1, -1, -1]\n",
    "        >>> svm._label_to_custom_onehot(4)\n",
    "        [-1, -1, -1, -1, 1]\n",
    "        \"\"\"\n",
    "        ret = np.full((self.n_classes,), -1)\n",
    "        ret[label] = 1\n",
    "        return ret"
   ]
  },
  {
   "cell_type": "code",
   "execution_count": 7,
   "metadata": {
    "executionInfo": {
     "elapsed": 1924,
     "status": "ok",
     "timestamp": 1609448724517,
     "user": {
      "displayName": "Douglas Chiang",
      "photoUrl": "https://lh3.googleusercontent.com/a-/AOh14GjRfrNX2CaGt22kA81Qe5IcqhgjAFJAgL6a5a00=s64",
      "userId": "09168195025572616010"
     },
     "user_tz": -480
    },
    "id": "PzVrY3gD-sxy"
   },
   "outputs": [],
   "source": [
    "# Trial data set:\n",
    "# X_train, y_train = load_dat(\"dtrain123.dat\", Full_Data = False)\n",
    "# X_test, y_test   = load_dat(\"dtest123.dat\", Full_Data = False)\n",
    "# X_dataset = np.vstack((X_train, X_test))\n",
    "# Y_dataset = np.hstack((y_train, y_test))\n",
    "\n",
    "# Full data set:\n",
    "X_dataset, Y_dataset = load_dat(\"zipcombo.dat\", Full_Data = True)\n",
    "\n",
    "# pre_split_pt = round(Y_dataset.shape[0]*0.1)\n",
    "# X_dataset = X_dataset[:pre_split_pt]\n",
    "# Y_dataset = Y_dataset[:pre_split_pt]"
   ]
  },
  {
   "cell_type": "code",
   "execution_count": 8,
   "metadata": {
    "colab": {
     "base_uri": "https://localhost:8080/",
     "height": 1000,
     "output_embedded_package_id": "1iiXn3IlbiQ9gXBdYD6yEh9TGxG31NO29"
    },
    "executionInfo": {
     "elapsed": 15295490,
     "status": "ok",
     "timestamp": 1609464018092,
     "user": {
      "displayName": "Douglas Chiang",
      "photoUrl": "https://lh3.googleusercontent.com/a-/AOh14GjRfrNX2CaGt22kA81Qe5IcqhgjAFJAgL6a5a00=s64",
      "userId": "09168195025572616010"
     },
     "user_tz": -480
    },
    "id": "WWsj3i1z7mqF",
    "outputId": "f14f0ba5-9008-4cd8-ad61-9cd20fe93f99"
   },
   "outputs": [
    {
     "data": {
      "text/plain": [
       "Output hidden; open in https://colab.research.google.com to view."
      ]
     },
     "metadata": {},
     "output_type": "display_data"
    }
   ],
   "source": [
    "# K-Class Classifier Parameters:\n",
    "Ker_Meth  = \"Gau\"\n",
    "n_classes = 10\n",
    "\n",
    "# Question 1a):\n",
    "Training_Error_Mean  = []\n",
    "Training_Error_Stdev = []\n",
    "Testing_Error_Mean   = []\n",
    "Testing_Error_Stdev  = []\n",
    "\n",
    "# ---------------Training--------------------------\n",
    "# Question 1e):\n",
    "c = [0.007, 0.0072, 0.0074, 0.0076, 0.0078, 0.008, 0.0082, 0.0084, 0.0086, 0.0088, 0.009]\n",
    "for Ker_para in c:\n",
    "    print(\"c = {}\".format(Ker_para))\n",
    "\n",
    "    # Question 1a:\n",
    "    Training_Error_per_run = []\n",
    "    Testing_Error_per_run  = []\n",
    "\n",
    "    print(\"Precalculate Kernel...\")\n",
    "    KF  = KernelFunctor(Ker_Meth, Ker_para)\n",
    "    tic = time.perf_counter()\n",
    "    KN  = KF.kernel_fn(X_dataset) # Kernel matrix\n",
    "    toc = time.perf_counter()\n",
    "    print(f\"**Kernel calculation finished in {toc - tic:0.4f} seconds\")\n",
    "\n",
    "    # 20 runs:\n",
    "    for run in range(1,21):\n",
    "        print(\"Run: {}\".format(run))\n",
    "\n",
    "        # Index Shuffle for fitting:\n",
    "        ran_sample_idx       = np.random.permutation(len(Y_dataset))\n",
    "        split_pt             = round(len(ran_sample_idx)*0.8)\n",
    "\n",
    "        # Index for Debug:\n",
    "        # ran_sample_idx       = range(len(Y_dataset))\n",
    "        # split_pt             = round(len(ran_sample_idx)*0.41911)\n",
    "\n",
    "        ran_train_sample_idx = ran_sample_idx[:split_pt]\n",
    "        ran_test_sample_idx  = ran_sample_idx[split_pt:len(ran_sample_idx)]\n",
    "\n",
    "        # Data sets:\n",
    "        X_train              = X_dataset[ran_train_sample_idx]\n",
    "        Y_train              = Y_dataset[ran_train_sample_idx]\n",
    "        X_test               = X_dataset[ran_test_sample_idx]\n",
    "        Y_test               = Y_dataset[ran_test_sample_idx]\n",
    "\n",
    "        nsamples             = len(ran_train_sample_idx)\n",
    "        n_test_samples       = len(ran_test_sample_idx)\n",
    "\n",
    "        # Initialize:\n",
    "        alphas               = np.zeros((n_classes, nsamples))\n",
    "        # alphas               = np.zeros((n_classes, nsamples + n_test_samples))\n",
    "\n",
    "        # Start Model:\n",
    "        ovrop = OvR_OnlinePerceptron(alphas, KN, n_classes)\n",
    "\n",
    "        # Results memory:\n",
    "        Train_correct_All    = []\n",
    "        Train_accuracy_All   = []\n",
    "        Train_mistakes_All   = []\n",
    "        Test_correct_All     = []\n",
    "        Test_accuracy_All    = []\n",
    "        Test_mistakes_All    = []\n",
    "\n",
    "        n_epochs = 20\n",
    "        for epoch in range(1, n_epochs + 1):\n",
    "            tic    = time.time()\n",
    "            alphas = ovrop.fit(ran_train_sample_idx, X_train, Y_train)\n",
    "            toc    = time.time()\n",
    "\n",
    "        # ---------------Training Accuracy-----------------\n",
    "            Train_correct = 0\n",
    "\n",
    "            # kernel_vals   = KN[:, ran_train_sample_idx]\n",
    "            kernel_vals   = KN[ran_train_sample_idx]\n",
    "            kernel_vals   = kernel_vals[:, ran_train_sample_idx]\n",
    "            pred          = np.array(list(map(np.argmax, zip(*(alphas.dot(kernel_vals))))))\n",
    "            Train_correct = len(np.where((Y_train - pred) == 0)[0])\n",
    "            \n",
    "            # Record results:\n",
    "            Train_correct_All.append(Train_correct)\n",
    "\n",
    "            Train_accuracy = Train_correct / nsamples\n",
    "            Train_accuracy_All.append(Train_accuracy)\n",
    "\n",
    "            Train_mistakes = nsamples - Train_correct\n",
    "            Train_mistakes_All.append(Train_mistakes)\n",
    "\n",
    "            # print(\"\\tTraining correctness = \", Train_correct)\n",
    "            # print(\"\\tTraining accuracy    = \", Train_accuracy)\n",
    "            # print(\"\\tTraining mistake(s)  = \", Train_mistakes, \"\\n\")\n",
    "\n",
    "        # ---------------Testing Accuracy-------------------\n",
    "            # print(\">>Testing:\")\n",
    "            Test_correct = 0\n",
    "\n",
    "            # kernel_vals  = KN[:, ran_test_sample_idx]\n",
    "            kernel_vals  = KN[ran_train_sample_idx]\n",
    "            kernel_vals  = kernel_vals[:, ran_test_sample_idx]\n",
    "            pred         = np.array(list(map(np.argmax, zip(*(alphas.dot(kernel_vals))))))\n",
    "            Test_correct = len(np.where((Y_test - pred) == 0)[0])\n",
    "\n",
    "            # Record results:\n",
    "            Test_correct_All.append(Test_correct)\n",
    "\n",
    "            Test_accuracy = Test_correct / n_test_samples\n",
    "            Test_accuracy_All.append(Test_accuracy)\n",
    "\n",
    "            Test_mistakes = n_test_samples - Test_correct\n",
    "            Test_mistakes_All.append(Test_mistakes)\n",
    "\n",
    "            # print(\"\\tTesting correctness  = \", Test_correct)\n",
    "            # print(\"\\tTesting accuracy     = \", Test_accuracy)\n",
    "            # print(\"\\tTesting mistake(s)   = \", Test_mistakes, \"\\n\")\n",
    "            print(f\"**Training: Epoch {epoch} finished in {toc - tic:0.4f} seconds with Train accuracy {Train_accuracy:0.4f} and Test accuracy {Test_accuracy:0.4f}.\")\n",
    "            epoch += 1\n",
    "\n",
    "        # Question 1a): Save error rate:\n",
    "        Training_Error_per_run.append(Train_mistakes/nsamples)\n",
    "        Testing_Error_per_run.append(Test_mistakes/n_test_samples)\n",
    "\n",
    "        Plot_Accuracy_SV(Ker_para, run, n_epochs + 1, Train_accuracy_All, Test_accuracy_All)\n",
    "\n",
    "    # Question 1a): Error mean and std:\n",
    "    Training_Error_Mean.append(np.mean(Training_Error_per_run))\n",
    "    Training_Error_Stdev.append(np.std(Training_Error_per_run))\n",
    "    Testing_Error_Mean.append(np.mean(Testing_Error_per_run))\n",
    "    Testing_Error_Stdev.append(np.std(Testing_Error_per_run))\n",
    "\n",
    "print(\"Results:\")\n",
    "print(f\"Training Error Mean: {Training_Error_Mean}\")\n",
    "print(f\"Training Error STD:  {Training_Error_Stdev}\")\n",
    "print(f\"Testing  Error Mean: {Testing_Error_Mean}\")\n",
    "print(f\"Testing  Error STD:  {Testing_Error_Stdev}\")"
   ]
  },
  {
   "cell_type": "code",
   "execution_count": 8,
   "metadata": {
    "executionInfo": {
     "elapsed": 15295486,
     "status": "ok",
     "timestamp": 1609464018097,
     "user": {
      "displayName": "Douglas Chiang",
      "photoUrl": "https://lh3.googleusercontent.com/a-/AOh14GjRfrNX2CaGt22kA81Qe5IcqhgjAFJAgL6a5a00=s64",
      "userId": "09168195025572616010"
     },
     "user_tz": -480
    },
    "id": "S7a4q652svQe"
   },
   "outputs": [],
   "source": []
  }
 ],
 "metadata": {
  "colab": {
   "authorship_tag": "ABX9TyOy7+jiT41jsGzJNmwAMyLF",
   "collapsed_sections": [],
   "mount_file_id": "1CuXJ8se3vH1JUcYhyTitC6_v99norfb6",
   "name": "Assignment_2_Question_1e_v1.ipynb",
   "provenance": [
    {
     "file_id": "18oBZW9BKPY2uEWrHrwMHKLxCUSzoqpZV",
     "timestamp": 1607859830124
    },
    {
     "file_id": "1lvMmk9RBW3FiDMoa1b3ThgUzotFOrNrc",
     "timestamp": 1607731373881
    }
   ]
  },
  "kernelspec": {
   "display_name": "Python 3",
   "language": "python",
   "name": "python3"
  },
  "language_info": {
   "codemirror_mode": {
    "name": "ipython",
    "version": 3
   },
   "file_extension": ".py",
   "mimetype": "text/x-python",
   "name": "python",
   "nbconvert_exporter": "python",
   "pygments_lexer": "ipython3",
   "version": "3.7.6"
  }
 },
 "nbformat": 4,
 "nbformat_minor": 1
}
